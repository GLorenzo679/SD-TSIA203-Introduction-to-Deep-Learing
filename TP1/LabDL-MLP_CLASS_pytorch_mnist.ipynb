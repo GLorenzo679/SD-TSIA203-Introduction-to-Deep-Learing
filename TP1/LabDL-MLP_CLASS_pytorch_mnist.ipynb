{
  "cells": [
    {
      "cell_type": "markdown",
      "metadata": {
        "id": "WpYK9fIlyZCq"
      },
      "source": [
        "# Lab Deep Learning / Multi-Layer Perceptron for classification / in pytorch\n",
        "\n",
        "**Author: geoffroy.peeters@telecom-paris.fr**\n",
        "\n",
        "For any remark or suggestion, please feel free to contact me.\n",
        "\n",
        "Last edit: 2020/04/27 peeters\n",
        "\n",
        "Read the \"introduction to pytorch\" slides first: https://perso.telecom-paristech.fr/gpeeters/doc/pytorch/\n",
        "\n",
        "**Is is recommended that you first perform the `Lab Deep Learning / Multi-Layer Perceptron for regression / in pytorch` Lab to understand how to write a Neural Network in pytorch.**\n",
        "\n",
        "## Objective:\n",
        "\n",
        "The objective of this lab is to develop a two hidden layers MLP to perform image **classification**.\n",
        "\n",
        "While the previous Lab `Lab Deep Learning / Multi-Layer Perceptron for regression / in pytorch` focused on how to write a Neural Network, the present Lab focuses on managing datasets and splitting training and testing .\n",
        "\n",
        "We will use MNIST for the image dataset.\n",
        "\n",
        "## Your task:\n",
        "\n",
        "You need to add the missing parts in the code (parts between `# --- START CODE HERE` and `# --- END CODE HERE`)\n",
        "\n",
        "## Documentation:\n",
        "\n",
        "- NN: https://pytorch.org/docs/stable/nn.html\n",
        "- Autograd: https://pytorch.org/docs/stable/autograd.html\n",
        "- Optim: https://pytorch.org/docs/stable/optim.html\n"
      ]
    },
    {
      "cell_type": "code",
      "execution_count": 1,
      "metadata": {
        "id": "h6o3NZfNyZCt"
      },
      "outputs": [],
      "source": [
        "import torch\n",
        "import torch.nn as nn\n",
        "import torch.nn.functional as F\n",
        "import torch.optim as optim\n",
        "from torchvision import datasets, transforms\n",
        "import matplotlib.pyplot as plt"
      ]
    },
    {
      "cell_type": "markdown",
      "metadata": {
        "id": "Vy7u-IVkyZCu"
      },
      "source": [
        "## Data management\n",
        "\n",
        "It is common to separate the datasets into\n",
        "\n",
        "- a **training** part (used to find the network parameters which minimize the loss)\n",
        "- a **test part** (used to estimate the performances).\n",
        "\n",
        "The training part can itself be further splitted into a training and a validation part (the validation part is then used to fix the hyper-parameters of the system).\n",
        "\n",
        "When performing `batch gradient descent` the whole training set is used to compute the gradients (which itself is used for the parameter optimization).\n",
        "However when performing `stochastic or mini-batch gradient descent` only a part of the training data is used at each iteration.\n",
        "\n",
        "We therefore needs to write all the necessary code, to get these mini-batches of data, be sure that all data have been seen, potentially randomize the order of appearance of these data and potentially perform some modifications of the data before giving them to the network.\n",
        "\n",
        "Fortunatelly, pytorch has associated to it (but not included in it) a nice package (`torchvision`) which allows to do all that for us.\n",
        "\n",
        "This package allows to perform these process for any datasets but has a pre-tuned method for the `MNIST`datasets.\n",
        "\n",
        "### Datasets\n",
        "\n",
        "In the following we will us `datasets.MNIST` to load the train and test data.\n",
        "\n",
        "We need to tell it to download the data, where to dowload them and if we want the training or the testing part of it.\n",
        "\n",
        "We then tell it if we want to apply some transformations to the data.\n",
        "\n",
        "For this lab, we will transform the data by\n",
        "\n",
        "- 1. transforming them to torch tensors (using `transforms.ToTensor()`); since by default they are not torch tensors\n",
        "- 2. normalize them to zero mean and unit standard deviation (using `transforms.Normalize()`).\n",
        "\n",
        "It is of course possible to also apply data augmentation.\n",
        "\n",
        "Since we have several transforms to be performed, we will compose them using `transforms.Compose([transform1, transform2])`\n",
        "\n",
        "The corresponding datasets is a class which contains the pairs of [input tensors $X$, corresponding ground-truth label $y$].\n",
        "\n",
        "### Dataloader\n",
        "\n",
        "Another nice pytorch facility is the `Dataloader` which transforms the dataset to be used as an iterator (i.e. within `for data in myDataloader: `).\n",
        "\n",
        "Moreover, `Dataloader` allows to specify\n",
        "\n",
        "- how many data will be provided each time it is called (`batch_size`)\n",
        "- if the order of appearance of the data with be random (`shuffle`).\n",
        "\n",
        "We therefore convert our datasets (train and test) to `DataLoader` that are directly used as iterator during the iterations (it DataLoader manage directly the mini-batch and shuffling).\n"
      ]
    },
    {
      "cell_type": "code",
      "execution_count": 2,
      "metadata": {
        "id": "zsSEvakPyZCv"
      },
      "outputs": [
        {
          "name": "stdout",
          "output_type": "stream",
          "text": [
            "Downloading http://yann.lecun.com/exdb/mnist/train-images-idx3-ubyte.gz\n",
            "Using downloaded and verified file: ./data\\MNIST\\raw\\train-images-idx3-ubyte.gz\n",
            "Extracting ./data\\MNIST\\raw\\train-images-idx3-ubyte.gz to ./data\\MNIST\\raw\n",
            "\n",
            "Downloading http://yann.lecun.com/exdb/mnist/train-labels-idx1-ubyte.gz\n",
            "Using downloaded and verified file: ./data\\MNIST\\raw\\train-labels-idx1-ubyte.gz\n",
            "Extracting ./data\\MNIST\\raw\\train-labels-idx1-ubyte.gz to ./data\\MNIST\\raw\n",
            "\n",
            "Downloading http://yann.lecun.com/exdb/mnist/t10k-images-idx3-ubyte.gz\n",
            "Failed to download (trying next):\n",
            "HTTP Error 403: Forbidden\n",
            "\n",
            "Downloading https://ossci-datasets.s3.amazonaws.com/mnist/t10k-images-idx3-ubyte.gz\n",
            "Downloading https://ossci-datasets.s3.amazonaws.com/mnist/t10k-images-idx3-ubyte.gz to ./data\\MNIST\\raw\\t10k-images-idx3-ubyte.gz\n"
          ]
        },
        {
          "name": "stderr",
          "output_type": "stream",
          "text": [
            "100.0%\n"
          ]
        },
        {
          "name": "stdout",
          "output_type": "stream",
          "text": [
            "Extracting ./data\\MNIST\\raw\\t10k-images-idx3-ubyte.gz to ./data\\MNIST\\raw\n",
            "\n",
            "Downloading http://yann.lecun.com/exdb/mnist/t10k-labels-idx1-ubyte.gz\n",
            "Failed to download (trying next):\n",
            "HTTP Error 403: Forbidden\n",
            "\n",
            "Downloading https://ossci-datasets.s3.amazonaws.com/mnist/t10k-labels-idx1-ubyte.gz\n",
            "Downloading https://ossci-datasets.s3.amazonaws.com/mnist/t10k-labels-idx1-ubyte.gz to ./data\\MNIST\\raw\\t10k-labels-idx1-ubyte.gz\n"
          ]
        },
        {
          "name": "stderr",
          "output_type": "stream",
          "text": [
            "100.0%"
          ]
        },
        {
          "name": "stdout",
          "output_type": "stream",
          "text": [
            "Extracting ./data\\MNIST\\raw\\t10k-labels-idx1-ubyte.gz to ./data\\MNIST\\raw\n",
            "\n"
          ]
        },
        {
          "name": "stderr",
          "output_type": "stream",
          "text": [
            "\n"
          ]
        }
      ],
      "source": [
        "train_set = datasets.MNIST(\n",
        "    \"./data\",\n",
        "    train=True,\n",
        "    download=True,\n",
        "    transform=transforms.Compose(\n",
        "        [transforms.ToTensor(), transforms.Normalize((0.1307,), (0.3081,))]\n",
        "    ),\n",
        ")\n",
        "\n",
        "train_loader = torch.utils.data.DataLoader(train_set, batch_size=64, shuffle=True)\n",
        "\n",
        "test_set = datasets.MNIST(\n",
        "    \"./data\",\n",
        "    train=False,\n",
        "    download=True,\n",
        "    transform=transforms.Compose(\n",
        "        [transforms.ToTensor(), transforms.Normalize((0.1307,), (0.3081,))]\n",
        "    ),\n",
        ")\n",
        "\n",
        "test_loader = torch.utils.data.DataLoader(test_set, batch_size=1000, shuffle=True)"
      ]
    },
    {
      "cell_type": "code",
      "execution_count": 3,
      "metadata": {
        "colab": {
          "base_uri": "https://localhost:8080/"
        },
        "id": "FFuEXr0tyZCw",
        "outputId": "eed0f78e-b86e-4118-e36a-edfad42db0af"
      },
      "outputs": [
        {
          "name": "stdout",
          "output_type": "stream",
          "text": [
            "dataset type: <class 'torchvision.datasets.mnist.MNIST'>\n",
            "dataset size: 60000\n",
            "X data: torch.Size([1, 28, 28])\n",
            "y data: 5\n"
          ]
        }
      ],
      "source": [
        "print(\"dataset type: {}\".format(type(train_set)))\n",
        "print(\"dataset size: {}\".format(len(train_set)))\n",
        "print(\"X data: {}\".format(train_set[0][0].size()))\n",
        "print(\"y data: {}\".format(train_set[0][1]))"
      ]
    },
    {
      "cell_type": "markdown",
      "metadata": {
        "id": "piAf25dxyZCx"
      },
      "source": [
        "### Display the first 5 data of MNIST dataset.\n"
      ]
    },
    {
      "cell_type": "code",
      "execution_count": 4,
      "metadata": {
        "colab": {
          "base_uri": "https://localhost:8080/",
          "height": 168
        },
        "id": "Jsa2MAEhyZCx",
        "outputId": "4bbb9e91-32d4-46c6-b42a-4d090bc8b1b4"
      },
      "outputs": [
        {
          "data": {
            "image/png": "[encoded data removed]",
            "text/plain": [
              "<Figure size 640x480 with 5 Axes>"
            ]
          },
          "metadata": {},
          "output_type": "display_data"
        }
      ],
      "source": [
        "# ------------------------------------\n",
        "for num in range(0, 5):\n",
        "    one_data = next(iter(train_loader))\n",
        "    plt.subplot(1, 5, num + 1)\n",
        "    plt.imshow(one_data[0][0][0, :, :])\n",
        "    plt.title(one_data[1][0].item())"
      ]
    },
    {
      "cell_type": "markdown",
      "metadata": {
        "id": "bo6-KX8UyZCy"
      },
      "source": [
        "## Network setting\n",
        "\n",
        "While image classification, is usually performed using Convolutional Neural Networks, we will use here a Multi-Layer-Perceptron (also named `fully-connected`).\n",
        "For this, we will flatten (i.e. convert the image 2D matrix to a 1D vector) the input images.\n",
        "\n",
        "- The input images are of size 28\\*28 and are converted to vectors of size `n_in`=784.\n",
        "\n",
        "- The two hidden layers have`n_h1`=500 and `n_h2`=256 unit/neurons each and `Relu`activations.\n",
        "\n",
        "- The output are the `n_out`=10 classes (the 10 digits to be recognized).\n",
        "\n",
        "Since we deal with a muti-class problem (10 classes), the output activations is therefore a `softmax`.\n",
        "\n",
        "Note that since the `softmax`output will be given to a `cross-entropy`, the `log`et the latter can be directly added to the `softmax`. This leads to the pytorch function `F.log_softmax`.\n"
      ]
    },
    {
      "cell_type": "code",
      "execution_count": 5,
      "metadata": {
        "id": "H0uIIQb9yZCy"
      },
      "outputs": [],
      "source": [
        "class Net(nn.Module):\n",
        "    def __init__(self):\n",
        "        n_in = 28 * 28\n",
        "        n_h1 = 500\n",
        "        n_h2 = 256\n",
        "        n_out = 10\n",
        "        super(Net, self).__init__()\n",
        "\n",
        "        self.linear1 = torch.nn.Linear(n_in, n_h1)\n",
        "        self.linear2 = torch.nn.Linear(n_h1, n_h2)\n",
        "        self.linear3 = torch.nn.Linear(n_h2, n_out)\n",
        "\n",
        "    def forward(self, x):\n",
        "        h1_relu = self.linear1(x).relu()\n",
        "        h2_relu = self.linear2(h1_relu).relu()\n",
        "        y_pred = self.linear3(h2_relu)\n",
        "\n",
        "        return F.log_softmax(y_pred, dim=1)"
      ]
    },
    {
      "cell_type": "markdown",
      "metadata": {
        "id": "x7qcgKFwyZCz"
      },
      "source": [
        "## Defining the train and test functions\n",
        "\n",
        "In the present lab, we distinguish between train and test data.\n",
        "We therefore write\n",
        "\n",
        "- a train function (to learn the network parameters on the train data),\n",
        "- a test function (to evaluate the network's performances on the test data).\n",
        "\n",
        "The `train` and `test`function will perform the computation for a given `epoch`.\n",
        "The functions therefore only need to `loop over` the mini-batches.\n",
        "This is now easy since we defined our `Dataloader`for train and test.\n",
        "\n",
        "For the train function, for each mini-batch, we\n",
        "\n",
        "- compute the forward pass by passing the data to the model: haty = model(x)\n",
        "- compute the the loss (the criterion)\n",
        "- putting at zero the gradients of all the parameters of the network (this is important since, by default, pytorch accumulate the gradients over time)\n",
        "- computing the backpropagation (using as before .backward())\n",
        "- performing one step of optimization (using .step())\n",
        "\n",
        "For the train function, we set the model to train mode (`model.train()`). This allows to set some specific behaviours for training (such as activate the dropout).\n",
        "\n",
        "For the test function, we set the model to train mode (`model.eval()`). This allows to set some specific behaviours for training (such as removing the dropout).\n",
        "\n",
        "Since we are dealing with a multi-class problem (10 classes), we will minimize as loss the `cross-entropy` (named negative-log-likelihood `nll_loss`in pytorch).\n",
        "Since `nll_loss`does not contains the `log` we have added it directly to the softmax by using the `log_softmax`as output activation of our network.\n",
        "\n",
        "Note that we could use the loss from the nn package (`torch.nn.NLLLoss`) it is then a class which needs to be first instanciated.\n",
        "We can also use the same but as a function (`F.nll_loss()`) which can be used directly without instanciating the class.\n"
      ]
    },
    {
      "cell_type": "code",
      "execution_count": 6,
      "metadata": {
        "id": "3dGuPt96yZCz"
      },
      "outputs": [],
      "source": [
        "def train(model, train_loader, optimizer, epoch):\n",
        "    model.train()\n",
        "\n",
        "    for batch_idx, (data, target) in enumerate(train_loader):\n",
        "        haty = model(data.view(-1, 28 * 28))\n",
        "        loss = F.nll_loss(haty, target)\n",
        "        optimizer.zero_grad()\n",
        "        loss.backward()\n",
        "        optimizer.step()\n",
        "\n",
        "        if batch_idx % 100 == 0:\n",
        "            print(\"epoch {}, loss {}\".format(epoch, loss.item()))"
      ]
    },
    {
      "cell_type": "code",
      "execution_count": 7,
      "metadata": {
        "id": "zI8QtzV2yZC0"
      },
      "outputs": [],
      "source": [
        "def test(model, test_loader):\n",
        "    model.eval()\n",
        "    test_loss = 0\n",
        "    correct = 0\n",
        "\n",
        "    with torch.no_grad():\n",
        "        for data, target in test_loader:\n",
        "            haty = model(data.view(-1, 28 * 28))\n",
        "            test_loss += F.nll_loss(haty, target, reduction=\"sum\").item()\n",
        "            pred = haty.argmax(dim=1, keepdim=True)\n",
        "            correct += pred.eq(target.view_as(pred)).sum().item()\n",
        "\n",
        "    test_loss /= len(test_loader.dataset)\n",
        "    correct /= len(test_loader.dataset)\n",
        "    print(\"\\nTest set: Average loss: {}, Accuracy: {}\\n\".format(test_loss, correct))"
      ]
    },
    {
      "cell_type": "markdown",
      "metadata": {
        "id": "9MXQIbcJyZC0"
      },
      "source": [
        "## Looping over epochs\n",
        "\n",
        "We finally define, how we will optimize our parameters by defining an optimizer.\n",
        "We will use here a very simple one: the SGD (`optim.SGD`) with a learning rate of 0.01.\n",
        "\n",
        "At each iteration, we then call the train and the test function.\n"
      ]
    },
    {
      "cell_type": "code",
      "execution_count": 8,
      "metadata": {
        "colab": {
          "base_uri": "https://localhost:8080/"
        },
        "id": "ofYcX05ZyZC0",
        "outputId": "c388a2ca-2c02-4e21-f712-cb556b9919a2"
      },
      "outputs": [
        {
          "name": "stdout",
          "output_type": "stream",
          "text": [
            "epoch 1, loss 2.3141889572143555\n",
            "epoch 1, loss 0.28343266248703003\n",
            "epoch 1, loss 0.33988678455352783\n",
            "epoch 1, loss 0.2724662125110626\n",
            "epoch 1, loss 0.13539184629917145\n",
            "epoch 1, loss 0.18930001556873322\n",
            "epoch 1, loss 0.2259863018989563\n",
            "epoch 1, loss 0.09793513268232346\n",
            "epoch 1, loss 0.16145657002925873\n",
            "epoch 1, loss 0.12561404705047607\n",
            "\n",
            "Test set: Average loss: 0.12424676132202149, Accuracy: 0.9611\n",
            "\n",
            "epoch 2, loss 0.15872275829315186\n",
            "epoch 2, loss 0.1035282239317894\n",
            "epoch 2, loss 0.13203105330467224\n",
            "epoch 2, loss 0.06250918656587601\n",
            "epoch 2, loss 0.09979648143053055\n",
            "epoch 2, loss 0.22056110203266144\n",
            "epoch 2, loss 0.02415226772427559\n",
            "epoch 2, loss 0.053161878138780594\n",
            "epoch 2, loss 0.02072274498641491\n",
            "epoch 2, loss 0.0709293782711029\n",
            "\n",
            "Test set: Average loss: 0.10250661888122559, Accuracy: 0.9666\n",
            "\n",
            "epoch 3, loss 0.2009933888912201\n",
            "epoch 3, loss 0.02976599894464016\n",
            "epoch 3, loss 0.021822359412908554\n",
            "epoch 3, loss 0.015992186963558197\n",
            "epoch 3, loss 0.06782780587673187\n",
            "epoch 3, loss 0.01860460825264454\n",
            "epoch 3, loss 0.2510225176811218\n",
            "epoch 3, loss 0.044389791786670685\n",
            "epoch 3, loss 0.02603272534906864\n",
            "epoch 3, loss 0.055613793432712555\n",
            "\n",
            "Test set: Average loss: 0.07852259635925293, Accuracy: 0.9752\n",
            "\n",
            "epoch 4, loss 0.01956396922469139\n",
            "epoch 4, loss 0.024011041969060898\n",
            "epoch 4, loss 0.04844583198428154\n",
            "epoch 4, loss 0.05941334366798401\n",
            "epoch 4, loss 0.04158671572804451\n",
            "epoch 4, loss 0.006897978484630585\n",
            "epoch 4, loss 0.019742416217923164\n",
            "epoch 4, loss 0.05214598402380943\n",
            "epoch 4, loss 0.24509531259536743\n",
            "epoch 4, loss 0.013291488401591778\n",
            "\n",
            "Test set: Average loss: 0.06943933792114258, Accuracy: 0.9788\n",
            "\n",
            "epoch 5, loss 0.05763561278581619\n",
            "epoch 5, loss 0.006861172616481781\n",
            "epoch 5, loss 0.005466580390930176\n",
            "epoch 5, loss 0.020267482846975327\n",
            "epoch 5, loss 0.050925109535455704\n",
            "epoch 5, loss 0.02126576565206051\n",
            "epoch 5, loss 0.004285982809960842\n",
            "epoch 5, loss 0.054606325924396515\n",
            "epoch 5, loss 0.007916341535747051\n",
            "epoch 5, loss 0.022992894053459167\n",
            "\n",
            "Test set: Average loss: 0.06535572471618652, Accuracy: 0.98\n",
            "\n",
            "epoch 6, loss 0.007429258897900581\n",
            "epoch 6, loss 0.0017615773249417543\n",
            "epoch 6, loss 0.010004814714193344\n",
            "epoch 6, loss 0.004891806282103062\n",
            "epoch 6, loss 0.03143324702978134\n",
            "epoch 6, loss 0.0064888144843280315\n",
            "epoch 6, loss 0.0015103479381650686\n",
            "epoch 6, loss 0.019907258450984955\n",
            "epoch 6, loss 0.038052648305892944\n",
            "epoch 6, loss 0.04631341993808746\n",
            "\n",
            "Test set: Average loss: 0.06426437377929688, Accuracy: 0.98\n",
            "\n",
            "epoch 7, loss 0.0343521349132061\n",
            "epoch 7, loss 0.006281096488237381\n",
            "epoch 7, loss 0.016992343589663506\n",
            "epoch 7, loss 0.00954371690750122\n",
            "epoch 7, loss 0.023416081443428993\n",
            "epoch 7, loss 0.00678633339703083\n",
            "epoch 7, loss 0.02196451835334301\n",
            "epoch 7, loss 0.00526781938970089\n",
            "epoch 7, loss 0.0012048919452354312\n",
            "epoch 7, loss 0.001685069059021771\n",
            "\n",
            "Test set: Average loss: 0.060282064819335936, Accuracy: 0.9823\n",
            "\n",
            "epoch 8, loss 0.011364199221134186\n",
            "epoch 8, loss 0.044740695506334305\n",
            "epoch 8, loss 0.0033930717036128044\n",
            "epoch 8, loss 0.006240188144147396\n",
            "epoch 8, loss 0.0029952405020594597\n",
            "epoch 8, loss 0.029741695150732994\n",
            "epoch 8, loss 0.02662721835076809\n",
            "epoch 8, loss 0.009381022304296494\n",
            "epoch 8, loss 0.006995191797614098\n",
            "epoch 8, loss 0.0010324969189241529\n",
            "\n",
            "Test set: Average loss: 0.06495003623962402, Accuracy: 0.9813\n",
            "\n",
            "epoch 9, loss 0.008830511011183262\n",
            "epoch 9, loss 0.004084400832653046\n",
            "epoch 9, loss 0.0018408766482025385\n",
            "epoch 9, loss 0.001740231062285602\n",
            "epoch 9, loss 0.007643085438758135\n",
            "epoch 9, loss 0.007057081907987595\n",
            "epoch 9, loss 0.0007611469482071698\n",
            "epoch 9, loss 0.001968704629689455\n",
            "epoch 9, loss 0.0008747858228161931\n",
            "epoch 9, loss 0.0025689296890050173\n",
            "\n",
            "Test set: Average loss: 0.06023884544372558, Accuracy: 0.9823\n",
            "\n",
            "epoch 10, loss 0.007557990029454231\n",
            "epoch 10, loss 0.001904939184896648\n",
            "epoch 10, loss 0.00041509693255648017\n",
            "epoch 10, loss 0.0026543312706053257\n",
            "epoch 10, loss 0.0013990771258249879\n",
            "epoch 10, loss 0.001321193645708263\n",
            "epoch 10, loss 0.006914860103279352\n",
            "epoch 10, loss 0.0024707356933504343\n",
            "epoch 10, loss 0.019475853070616722\n",
            "epoch 10, loss 0.0007446706295013428\n",
            "\n",
            "Test set: Average loss: 0.058109683799743655, Accuracy: 0.9838\n",
            "\n"
          ]
        }
      ],
      "source": [
        "model = Net()\n",
        "optimizer = optim.SGD(model.parameters(), lr=0.01, momentum=0.9)\n",
        "nb_epoch = 10\n",
        "\n",
        "for epoch in range(1, nb_epoch + 1):\n",
        "    train(model, train_loader, optimizer, epoch)\n",
        "    test(model, test_loader)"
      ]
    }
  ],
  "metadata": {
    "accelerator": "GPU",
    "colab": {
      "gpuType": "T4",
      "provenance": []
    },
    "kernelspec": {
      "display_name": "Python 3",
      "name": "python3"
    },
    "language_info": {
      "codemirror_mode": {
        "name": "ipython",
        "version": 3
      },
      "file_extension": ".py",
      "mimetype": "text/x-python",
      "name": "python",
      "nbconvert_exporter": "python",
      "pygments_lexer": "ipython3",
      "version": "3.12.2"
    },
    "toc": {
      "base_numbering": 1,
      "nav_menu": {},
      "number_sections": true,
      "sideBar": true,
      "skip_h1_title": false,
      "title_cell": "Table of Contents",
      "title_sidebar": "Contents",
      "toc_cell": false,
      "toc_position": {
        "height": "calc(100% - 180px)",
        "left": "10px",
        "top": "150px",
        "width": "165px"
      },
      "toc_section_display": true,
      "toc_window_display": false
    }
  },
  "nbformat": 4,
  "nbformat_minor": 0
}
